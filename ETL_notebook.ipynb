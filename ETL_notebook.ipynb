{
  "nbformat": 4,
  "nbformat_minor": 0,
  "metadata": {
    "colab": {
      "name": "Untitled1.ipynb",
      "provenance": [],
      "authorship_tag": "ABX9TyPWx/uddhQ5SevTRP2J+wBb",
      "include_colab_link": true
    },
    "kernelspec": {
      "name": "python3",
      "display_name": "Python 3"
    }
  },
  "cells": [
    {
      "cell_type": "markdown",
      "metadata": {
        "id": "view-in-github",
        "colab_type": "text"
      },
      "source": [
        "<a href=\"https://colab.research.google.com/github/etumi/ETL-Project/blob/master/ETL_notebook.ipynb\" target=\"_parent\"><img src=\"https://colab.research.google.com/assets/colab-badge.svg\" alt=\"Open In Colab\"/></a>"
      ]
    },
    {
      "cell_type": "code",
      "metadata": {
        "id": "usGOp3HZDk2j",
        "colab_type": "code",
        "colab": {}
      },
      "source": [
        "import pandas as pd"
      ],
      "execution_count": 0,
      "outputs": []
    },
    {
      "cell_type": "code",
      "metadata": {
        "id": "X4ZKRtnaDv0s",
        "colab_type": "code",
        "colab": {}
      },
      "source": [
        "AA_url = 'https://raw.githubusercontent.com/etumi/ETL-Project/master/Resources/AA_database.csv'\n",
        "df = pd.read_csv(AA_url)"
      ],
      "execution_count": 0,
      "outputs": []
    },
    {
      "cell_type": "code",
      "metadata": {
        "id": "qdfDJlH4J1_P",
        "colab_type": "code",
        "colab": {
          "base_uri": "https://localhost:8080/",
          "height": 204
        },
        "outputId": "b5c10677-dbb7-4813-9180-e2b48808212b"
      },
      "source": [
        "df.head()"
      ],
      "execution_count": 3,
      "outputs": [
        {
          "output_type": "execute_result",
          "data": {
            "text/html": [
              "<div>\n",
              "<style scoped>\n",
              "    .dataframe tbody tr th:only-of-type {\n",
              "        vertical-align: middle;\n",
              "    }\n",
              "\n",
              "    .dataframe tbody tr th {\n",
              "        vertical-align: top;\n",
              "    }\n",
              "\n",
              "    .dataframe thead th {\n",
              "        text-align: right;\n",
              "    }\n",
              "</style>\n",
              "<table border=\"1\" class=\"dataframe\">\n",
              "  <thead>\n",
              "    <tr style=\"text-align: right;\">\n",
              "      <th></th>\n",
              "      <th>Year</th>\n",
              "      <th>Ceremony</th>\n",
              "      <th>Award</th>\n",
              "      <th>Winner</th>\n",
              "      <th>Name</th>\n",
              "      <th>Film</th>\n",
              "    </tr>\n",
              "  </thead>\n",
              "  <tbody>\n",
              "    <tr>\n",
              "      <th>0</th>\n",
              "      <td>1927/1928</td>\n",
              "      <td>1</td>\n",
              "      <td>Actor</td>\n",
              "      <td>NaN</td>\n",
              "      <td>Richard Barthelmess</td>\n",
              "      <td>The Noose</td>\n",
              "    </tr>\n",
              "    <tr>\n",
              "      <th>1</th>\n",
              "      <td>1927/1928</td>\n",
              "      <td>1</td>\n",
              "      <td>Actor</td>\n",
              "      <td>1.0</td>\n",
              "      <td>Emil Jannings</td>\n",
              "      <td>The Last Command</td>\n",
              "    </tr>\n",
              "    <tr>\n",
              "      <th>2</th>\n",
              "      <td>1927/1928</td>\n",
              "      <td>1</td>\n",
              "      <td>Actress</td>\n",
              "      <td>NaN</td>\n",
              "      <td>Louise Dresser</td>\n",
              "      <td>A Ship Comes In</td>\n",
              "    </tr>\n",
              "    <tr>\n",
              "      <th>3</th>\n",
              "      <td>1927/1928</td>\n",
              "      <td>1</td>\n",
              "      <td>Actress</td>\n",
              "      <td>1.0</td>\n",
              "      <td>Janet Gaynor</td>\n",
              "      <td>7th Heaven</td>\n",
              "    </tr>\n",
              "    <tr>\n",
              "      <th>4</th>\n",
              "      <td>1927/1928</td>\n",
              "      <td>1</td>\n",
              "      <td>Actress</td>\n",
              "      <td>NaN</td>\n",
              "      <td>Gloria Swanson</td>\n",
              "      <td>Sadie Thompson</td>\n",
              "    </tr>\n",
              "  </tbody>\n",
              "</table>\n",
              "</div>"
            ],
            "text/plain": [
              "        Year  Ceremony    Award  Winner                 Name              Film\n",
              "0  1927/1928         1    Actor     NaN  Richard Barthelmess         The Noose\n",
              "1  1927/1928         1    Actor     1.0        Emil Jannings  The Last Command\n",
              "2  1927/1928         1  Actress     NaN       Louise Dresser   A Ship Comes In\n",
              "3  1927/1928         1  Actress     1.0         Janet Gaynor        7th Heaven\n",
              "4  1927/1928         1  Actress     NaN       Gloria Swanson    Sadie Thompson"
            ]
          },
          "metadata": {
            "tags": []
          },
          "execution_count": 3
        }
      ]
    },
    {
      "cell_type": "code",
      "metadata": {
        "id": "ZOPlPoSdJ5Oa",
        "colab_type": "code",
        "colab": {}
      },
      "source": [
        "df2 = df.copy()"
      ],
      "execution_count": 0,
      "outputs": []
    },
    {
      "cell_type": "code",
      "metadata": {
        "id": "IBCEhfNCKPNv",
        "colab_type": "code",
        "colab": {
          "base_uri": "https://localhost:8080/",
          "height": 204
        },
        "outputId": "4c25aa36-0547-453d-9146-17fb234a2b83"
      },
      "source": [
        "df2[['Year1','Year2']] = df2.Year.str.split(\"/\",expand=True,)\n",
        "df2.head()"
      ],
      "execution_count": 5,
      "outputs": [
        {
          "output_type": "execute_result",
          "data": {
            "text/html": [
              "<div>\n",
              "<style scoped>\n",
              "    .dataframe tbody tr th:only-of-type {\n",
              "        vertical-align: middle;\n",
              "    }\n",
              "\n",
              "    .dataframe tbody tr th {\n",
              "        vertical-align: top;\n",
              "    }\n",
              "\n",
              "    .dataframe thead th {\n",
              "        text-align: right;\n",
              "    }\n",
              "</style>\n",
              "<table border=\"1\" class=\"dataframe\">\n",
              "  <thead>\n",
              "    <tr style=\"text-align: right;\">\n",
              "      <th></th>\n",
              "      <th>Year</th>\n",
              "      <th>Ceremony</th>\n",
              "      <th>Award</th>\n",
              "      <th>Winner</th>\n",
              "      <th>Name</th>\n",
              "      <th>Film</th>\n",
              "      <th>Year1</th>\n",
              "      <th>Year2</th>\n",
              "    </tr>\n",
              "  </thead>\n",
              "  <tbody>\n",
              "    <tr>\n",
              "      <th>0</th>\n",
              "      <td>1927/1928</td>\n",
              "      <td>1</td>\n",
              "      <td>Actor</td>\n",
              "      <td>NaN</td>\n",
              "      <td>Richard Barthelmess</td>\n",
              "      <td>The Noose</td>\n",
              "      <td>1927</td>\n",
              "      <td>1928</td>\n",
              "    </tr>\n",
              "    <tr>\n",
              "      <th>1</th>\n",
              "      <td>1927/1928</td>\n",
              "      <td>1</td>\n",
              "      <td>Actor</td>\n",
              "      <td>1.0</td>\n",
              "      <td>Emil Jannings</td>\n",
              "      <td>The Last Command</td>\n",
              "      <td>1927</td>\n",
              "      <td>1928</td>\n",
              "    </tr>\n",
              "    <tr>\n",
              "      <th>2</th>\n",
              "      <td>1927/1928</td>\n",
              "      <td>1</td>\n",
              "      <td>Actress</td>\n",
              "      <td>NaN</td>\n",
              "      <td>Louise Dresser</td>\n",
              "      <td>A Ship Comes In</td>\n",
              "      <td>1927</td>\n",
              "      <td>1928</td>\n",
              "    </tr>\n",
              "    <tr>\n",
              "      <th>3</th>\n",
              "      <td>1927/1928</td>\n",
              "      <td>1</td>\n",
              "      <td>Actress</td>\n",
              "      <td>1.0</td>\n",
              "      <td>Janet Gaynor</td>\n",
              "      <td>7th Heaven</td>\n",
              "      <td>1927</td>\n",
              "      <td>1928</td>\n",
              "    </tr>\n",
              "    <tr>\n",
              "      <th>4</th>\n",
              "      <td>1927/1928</td>\n",
              "      <td>1</td>\n",
              "      <td>Actress</td>\n",
              "      <td>NaN</td>\n",
              "      <td>Gloria Swanson</td>\n",
              "      <td>Sadie Thompson</td>\n",
              "      <td>1927</td>\n",
              "      <td>1928</td>\n",
              "    </tr>\n",
              "  </tbody>\n",
              "</table>\n",
              "</div>"
            ],
            "text/plain": [
              "        Year  Ceremony    Award  ...              Film Year1 Year2\n",
              "0  1927/1928         1    Actor  ...         The Noose  1927  1928\n",
              "1  1927/1928         1    Actor  ...  The Last Command  1927  1928\n",
              "2  1927/1928         1  Actress  ...   A Ship Comes In  1927  1928\n",
              "3  1927/1928         1  Actress  ...        7th Heaven  1927  1928\n",
              "4  1927/1928         1  Actress  ...    Sadie Thompson  1927  1928\n",
              "\n",
              "[5 rows x 8 columns]"
            ]
          },
          "metadata": {
            "tags": []
          },
          "execution_count": 5
        }
      ]
    },
    {
      "cell_type": "code",
      "metadata": {
        "id": "BQtz14U8Kixj",
        "colab_type": "code",
        "colab": {}
      },
      "source": [
        ""
      ],
      "execution_count": 0,
      "outputs": []
    }
  ]
}